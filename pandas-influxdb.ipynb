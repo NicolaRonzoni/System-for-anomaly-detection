{
 "cells": [
  {
   "cell_type": "code",
   "execution_count": null,
   "metadata": {},
   "outputs": [],
   "source": [
    "import csv\n",
    "import pandas as pd\n",
    "import os\n",
    "import opendatasets as od \n",
    "import pytz\n",
    "from pytz import UTC\n",
    "import  ciso8601\n",
    "import influxdb_client\n",
    "from datetime import datetime\n",
    "from influxdb_client import InfluxDBClient, Point, WritePrecision, WriteOptions\n",
    "from influxdb_client.client.write_api import SYNCHRONOUS\n",
    "from influxdb_client.client.write.point import EPOCH\n"
   ]
  },
  {
   "cell_type": "code",
   "execution_count": null,
   "metadata": {},
   "outputs": [],
   "source": [
    "od.download(\"https://www.kaggle.com/nphantawee/pump-sensor-data\")"
   ]
  },
  {
   "cell_type": "code",
   "execution_count": null,
   "metadata": {},
   "outputs": [],
   "source": [
    "# get the working directory \n",
    "os.getcwd()"
   ]
  },
  {
   "cell_type": "code",
   "execution_count": null,
   "metadata": {},
   "outputs": [],
   "source": [
    "#set the working directory \n",
    "os.chdir('/mnt/c/Users/NicolaRonzoni/OneDrive - BitBang Srl/pump-sensor-data')"
   ]
  },
  {
   "cell_type": "code",
   "execution_count": null,
   "metadata": {},
   "outputs": [],
   "source": [
    "os.getcwd()"
   ]
  },
  {
   "cell_type": "code",
   "execution_count": null,
   "metadata": {},
   "outputs": [],
   "source": [
    "#load the dataset \n",
    "df = pd.read_csv('/mnt/c/Users/NicolaRonzoni/OneDrive - BitBang Srl/pump-sensor-data/sensor.csv',sep=',')"
   ]
  },
  {
   "cell_type": "code",
   "execution_count": null,
   "metadata": {},
   "outputs": [],
   "source": [
    "df.info()"
   ]
  },
  {
   "cell_type": "code",
   "execution_count": null,
   "metadata": {},
   "outputs": [],
   "source": [
    "#token api, ID bucket and name of the org from User Interface\n",
    "my_token = 'ZrKUM72cuRCQe0l2ahfZQkb_Gmkax3jFm6fgM1CkA0-gzUlrezQmLegjFmCQiQzZcFt3rarBBwSi6r_XHIFTBw=='\n",
    "my_org = \"nronzoni@bitbang.com\"\n",
    "my_bucket = \"6c07c0824c29c073\"\n",
    "url = \"https://eu-central-1-1.aws.cloud2.influxdata.com\"\n"
   ]
  },
  {
   "cell_type": "code",
   "execution_count": null,
   "metadata": {},
   "outputs": [],
   "source": [
    "#making a connection, specify write options \n",
    "client = InfluxDBClient(url=url, token=my_token, org=my_org,debug=True)\n",
    "write_client = client.write_api(write_options=WriteOptions(batch_size=1000,\n",
    "flush_interval=10_000,\n",
    "jitter_interval=2_000,\n",
    "retry_interval=5_000))\n",
    " \n"
   ]
  },
  {
   "cell_type": "code",
   "execution_count": null,
   "metadata": {},
   "outputs": [],
   "source": [
    "# specify an indicator in order to identify values of the series \n",
    "df.loc[:,'stamp']='Original'"
   ]
  },
  {
   "cell_type": "code",
   "execution_count": null,
   "metadata": {},
   "outputs": [],
   "source": [
    "# select only columns of interest, set index of pandas df to datetime64. Add missing rows to jumps in the series. \n",
    "df1=df[[\"timestamp\",'stamp','machine_status','sensor_42','sensor_43','sensor_44','sensor_45']]\n",
    "df1['date'] = pd.to_datetime(df1['timestamp'])\n",
    "df1 = df1.set_index('date')\n",
    "df1.drop(['timestamp'], axis=1, inplace=True)\n",
    "df1 = df1.asfreq('1Min')\n",
    "df1.info()"
   ]
  },
  {
   "cell_type": "code",
   "execution_count": null,
   "metadata": {},
   "outputs": [],
   "source": [
    "df1.head()"
   ]
  },
  {
   "cell_type": "code",
   "execution_count": null,
   "metadata": {},
   "outputs": [],
   "source": [
    "#write the data specyfing the name of the dataframe and tag columns to identify series \n",
    "write_client.write(my_bucket, my_org, record=df1[:1440], data_frame_measurement_name=\"sensor-df\", data_frame_tag_columns=['stamp'])"
   ]
  },
  {
   "cell_type": "code",
   "execution_count": null,
   "metadata": {},
   "outputs": [],
   "source": [
    "#close the connection\n",
    "write_client.__del__()\n",
    "client.__del__()"
   ]
  },
  {
   "cell_type": "code",
   "execution_count": null,
   "metadata": {},
   "outputs": [],
   "source": [
    "# from influxdb to pandas again \n",
    "from influxdb_client import InfluxDBClient\n",
    "\n",
    "bucket = \"water pump sensors\"\n",
    "#specify the connection and the query using flux language. \n",
    "client = InfluxDBClient(url=url, token=my_token, org=my_org, debug=False)\n",
    "query = \"\"\"option v = {timeRangeStart: 2018-04-01T00:00:00Z, timeRangeStop: 2018-04-02T00:00:00Z}\n",
    "\n",
    "from(bucket: \"water pump sensors\")\n",
    "    |> range(start: v.timeRangeStart, stop: v.timeRangeStop)\n",
    "    |> filter(fn: (r) => r[\"_measurement\"] == \"sensor-df\")\n",
    "    |> filter(fn: (r) => r[\"_field\"] == \"sensor_44\" or r[\"_field\"] == \"sensor_45\")\n",
    "    |> fill(usePrevious: true)\n",
    "\n",
    "from(bucket: \"water pump sensors\")\n",
    "    |> range(start: v.timeRangeStart, stop: v.timeRangeStop)\n",
    "    |> filter(fn: (r) => r[\"_measurement\"] == \"sensor-df\")\n",
    "    |> filter(fn: (r) => r[\"_field\"] == \"sensor_44\" or r[\"_field\"] == \"sensor_45\")\n",
    "    |> aggregateWindow(every: 20m, fn: stddev, createEmpty: true)\n",
    "    |> yield(name: \"stddev\")\"\"\"\n",
    "# dataframe saved in a list, therefore select the first entry\n",
    "df2= client.query_api().query_data_frame(org=my_org, query=query)[0]\n",
    "\n",
    "\n",
    "\n",
    "\n",
    "\n",
    "    \n",
    "    "
   ]
  },
  {
   "cell_type": "code",
   "execution_count": 19,
   "metadata": {},
   "outputs": [
    {
     "data": {
      "text/html": [
       "<div>\n",
       "<style scoped>\n",
       "    .dataframe tbody tr th:only-of-type {\n",
       "        vertical-align: middle;\n",
       "    }\n",
       "\n",
       "    .dataframe tbody tr th {\n",
       "        vertical-align: top;\n",
       "    }\n",
       "\n",
       "    .dataframe thead th {\n",
       "        text-align: right;\n",
       "    }\n",
       "</style>\n",
       "<table border=\"1\" class=\"dataframe\">\n",
       "  <thead>\n",
       "    <tr style=\"text-align: right;\">\n",
       "      <th></th>\n",
       "      <th>result</th>\n",
       "      <th>table</th>\n",
       "      <th>_start</th>\n",
       "      <th>_stop</th>\n",
       "      <th>_time</th>\n",
       "      <th>_value</th>\n",
       "      <th>_field</th>\n",
       "      <th>_measurement</th>\n",
       "      <th>stamp</th>\n",
       "    </tr>\n",
       "  </thead>\n",
       "  <tbody>\n",
       "    <tr>\n",
       "      <th>0</th>\n",
       "      <td>_result</td>\n",
       "      <td>0</td>\n",
       "      <td>2018-04-01 00:00:00+00:00</td>\n",
       "      <td>2018-04-02 00:00:00+00:00</td>\n",
       "      <td>2018-04-01 00:00:00+00:00</td>\n",
       "      <td>65.68287</td>\n",
       "      <td>sensor_45</td>\n",
       "      <td>sensor-df</td>\n",
       "      <td>Original</td>\n",
       "    </tr>\n",
       "    <tr>\n",
       "      <th>1</th>\n",
       "      <td>_result</td>\n",
       "      <td>0</td>\n",
       "      <td>2018-04-01 00:00:00+00:00</td>\n",
       "      <td>2018-04-02 00:00:00+00:00</td>\n",
       "      <td>2018-04-01 00:01:00+00:00</td>\n",
       "      <td>65.68287</td>\n",
       "      <td>sensor_45</td>\n",
       "      <td>sensor-df</td>\n",
       "      <td>Original</td>\n",
       "    </tr>\n",
       "    <tr>\n",
       "      <th>2</th>\n",
       "      <td>_result</td>\n",
       "      <td>0</td>\n",
       "      <td>2018-04-01 00:00:00+00:00</td>\n",
       "      <td>2018-04-02 00:00:00+00:00</td>\n",
       "      <td>2018-04-01 00:02:00+00:00</td>\n",
       "      <td>65.39352</td>\n",
       "      <td>sensor_45</td>\n",
       "      <td>sensor-df</td>\n",
       "      <td>Original</td>\n",
       "    </tr>\n",
       "    <tr>\n",
       "      <th>3</th>\n",
       "      <td>_result</td>\n",
       "      <td>0</td>\n",
       "      <td>2018-04-01 00:00:00+00:00</td>\n",
       "      <td>2018-04-02 00:00:00+00:00</td>\n",
       "      <td>2018-04-01 00:03:00+00:00</td>\n",
       "      <td>64.81481</td>\n",
       "      <td>sensor_45</td>\n",
       "      <td>sensor-df</td>\n",
       "      <td>Original</td>\n",
       "    </tr>\n",
       "    <tr>\n",
       "      <th>4</th>\n",
       "      <td>_result</td>\n",
       "      <td>0</td>\n",
       "      <td>2018-04-01 00:00:00+00:00</td>\n",
       "      <td>2018-04-02 00:00:00+00:00</td>\n",
       "      <td>2018-04-01 00:04:00+00:00</td>\n",
       "      <td>65.10416</td>\n",
       "      <td>sensor_45</td>\n",
       "      <td>sensor-df</td>\n",
       "      <td>Original</td>\n",
       "    </tr>\n",
       "  </tbody>\n",
       "</table>\n",
       "</div>"
      ],
      "text/plain": [
       "    result  table                    _start                     _stop  \\\n",
       "0  _result      0 2018-04-01 00:00:00+00:00 2018-04-02 00:00:00+00:00   \n",
       "1  _result      0 2018-04-01 00:00:00+00:00 2018-04-02 00:00:00+00:00   \n",
       "2  _result      0 2018-04-01 00:00:00+00:00 2018-04-02 00:00:00+00:00   \n",
       "3  _result      0 2018-04-01 00:00:00+00:00 2018-04-02 00:00:00+00:00   \n",
       "4  _result      0 2018-04-01 00:00:00+00:00 2018-04-02 00:00:00+00:00   \n",
       "\n",
       "                      _time    _value     _field _measurement     stamp  \n",
       "0 2018-04-01 00:00:00+00:00  65.68287  sensor_45    sensor-df  Original  \n",
       "1 2018-04-01 00:01:00+00:00  65.68287  sensor_45    sensor-df  Original  \n",
       "2 2018-04-01 00:02:00+00:00  65.39352  sensor_45    sensor-df  Original  \n",
       "3 2018-04-01 00:03:00+00:00  64.81481  sensor_45    sensor-df  Original  \n",
       "4 2018-04-01 00:04:00+00:00  65.10416  sensor_45    sensor-df  Original  "
      ]
     },
     "execution_count": 19,
     "metadata": {},
     "output_type": "execute_result"
    }
   ],
   "source": [
    "df2.head()"
   ]
  }
 ],
 "metadata": {
  "interpreter": {
   "hash": "9fd23c39e5dd27a3f5609215c55749f5582708afb162cc9f8ea06348e2cd6dbf"
  },
  "kernelspec": {
   "display_name": "Python 3.9.7 64-bit ('base': conda)",
   "language": "python",
   "name": "python3"
  },
  "language_info": {
   "codemirror_mode": {
    "name": "ipython",
    "version": 3
   },
   "file_extension": ".py",
   "mimetype": "text/x-python",
   "name": "python",
   "nbconvert_exporter": "python",
   "pygments_lexer": "ipython3",
   "version": "3.8.10"
  },
  "orig_nbformat": 4
 },
 "nbformat": 4,
 "nbformat_minor": 2
}
